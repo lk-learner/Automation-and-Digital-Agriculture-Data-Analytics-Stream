{
 "cells": [
  {
   "cell_type": "markdown",
   "metadata": {},
   "source": [
    "# Training 3"
   ]
  },
  {
   "cell_type": "markdown",
   "metadata": {},
   "source": [
    "## Introduction to NumPy"
   ]
  },
  {
   "cell_type": "markdown",
   "metadata": {},
   "source": [
    "NumPy (Numerical Python) is a popular library in Python that provides support for large, multi-dimensional arrays and matrices, along with a collection of mathematical functions to operate on these arrays efficiently. It is an essential tool for scientific computing and data analysis in Python.\n",
    "\n",
    "Here are some key features and benefits of NumPy:\n",
    "\n",
    "1. N-dimensional Array: NumPy's main feature is the `ndarray` (n-dimensional array) object, which allows you to efficiently store and manipulate large arrays of homogeneous data. It provides a convenient and efficient way to handle numerical data.\n",
    "\n",
    "2. Mathematical Operations: NumPy offers a wide range of mathematical functions that operate element-wise on arrays, enabling efficient numerical computations. These functions are optimized for performance and can be applied to entire arrays without the need for loops.\n",
    "\n",
    "3. Broadcasting: NumPy supports broadcasting, which is a powerful mechanism for performing operations on arrays of different shapes. Broadcasting allows you to perform arithmetic operations between arrays of different sizes, making your code more concise and efficient.\n",
    "\n",
    "4. Integration with Other Libraries: NumPy is a fundamental building block for many scientific computing and data analysis libraries in Python. It integrates seamlessly with libraries such as SciPy, Pandas, Matplotlib, and scikit-learn, forming a powerful ecosystem for data analysis, machine learning, and scientific research.\n",
    "\n",
    "5. Efficient Memory Management: NumPy arrays are stored in contiguous memory blocks, which leads to efficient memory utilization and enables faster computation. The underlying implementation of NumPy is written in C, making it highly optimized and suitable for handling large datasets.\n",
    "\n",
    "6. Array Indexing and Slicing: NumPy provides flexible indexing and slicing operations that allow you to access and modify specific elements or subsets of an array. This enables efficient data manipulation and extraction from arrays.\n",
    "\n",
    "7. Linear Algebra Operations: NumPy includes a rich set of linear algebra functions for performing matrix operations, such as matrix multiplication, matrix inversion, eigenvalues, and eigenvectors. These operations are essential for many scientific and numerical computations.\n",
    "\n",
    "NumPy is widely used in various domains, including scientific research, data analysis, machine learning, image processing, and computational physics. Its efficiency, simplicity, and powerful features make it a fundamental tool for numerical computing in Python."
   ]
  },
  {
   "cell_type": "code",
   "execution_count": 1,
   "metadata": {},
   "outputs": [],
   "source": [
    "# importing numpy library\n",
    "import numpy as np \n",
    "\n",
    "#Note that if you have not installed Numpy to your computer you cand do it by following code after # sign\n",
    "\n",
    "# pip install numpy ---> in you terminal\n",
    "# !pip install numpy ---> in jupyter cell"
   ]
  },
  {
   "cell_type": "code",
   "execution_count": 2,
   "metadata": {},
   "outputs": [
    {
     "name": "stdout",
     "output_type": "stream",
     "text": [
      "[1 2 3 4 5]\n"
     ]
    }
   ],
   "source": [
    "#Create a 1D NumPy array:\n",
    "arr_1d = np.array([1, 2, 3, 4, 5])\n",
    "print(arr_1d)"
   ]
  },
  {
   "cell_type": "code",
   "execution_count": 3,
   "metadata": {},
   "outputs": [
    {
     "name": "stdout",
     "output_type": "stream",
     "text": [
      "[[1 2 3]\n",
      " [4 5 6]]\n"
     ]
    }
   ],
   "source": [
    "#Create a 2D NumPy array:\n",
    "arr_2d = np.array([[1, 2, 3], \n",
    "                   [4, 5, 6]])\n",
    "print(arr_2d)"
   ]
  },
  {
   "cell_type": "code",
   "execution_count": 4,
   "metadata": {},
   "outputs": [
    {
     "data": {
      "text/plain": [
       "array([[1, 2, 3],\n",
       "       [4, 5, 6]])"
      ]
     },
     "execution_count": 4,
     "metadata": {},
     "output_type": "execute_result"
    }
   ],
   "source": [
    "# Same results but more readable\n",
    "np.array([[1, 2, 3], \n",
    "          [4, 5, 6]])"
   ]
  },
  {
   "cell_type": "code",
   "execution_count": 5,
   "metadata": {},
   "outputs": [
    {
     "name": "stdout",
     "output_type": "stream",
     "text": [
      "[[0. 0. 0.]\n",
      " [0. 0. 0.]]\n"
     ]
    }
   ],
   "source": [
    "#Create an array of zeros:\n",
    "zeros_arr = np.zeros((2, 3))\n",
    "print(zeros_arr)"
   ]
  },
  {
   "cell_type": "code",
   "execution_count": 6,
   "metadata": {},
   "outputs": [
    {
     "name": "stdout",
     "output_type": "stream",
     "text": [
      "[[1. 1. 1. 1.]\n",
      " [1. 1. 1. 1.]\n",
      " [1. 1. 1. 1.]]\n"
     ]
    }
   ],
   "source": [
    "#Create an array of ones:\n",
    "ones_arr = np.ones((3, 4))\n",
    "print(ones_arr)\n"
   ]
  },
  {
   "cell_type": "code",
   "execution_count": 7,
   "metadata": {},
   "outputs": [
    {
     "name": "stdout",
     "output_type": "stream",
     "text": [
      "[ 5  7  9 11 13]\n"
     ]
    }
   ],
   "source": [
    "#Create an array with a specified range:\n",
    "range_arr = np.arange(5, 15, 2)\n",
    "print(range_arr)"
   ]
  },
  {
   "cell_type": "code",
   "execution_count": 8,
   "metadata": {},
   "outputs": [
    {
     "name": "stdout",
     "output_type": "stream",
     "text": [
      "[[1 2 3]\n",
      " [4 5 6]]\n"
     ]
    }
   ],
   "source": [
    "#Reshape an array:\n",
    "arr = np.array([1, 2, 3, 4, 5, 6])\n",
    "reshaped_arr = arr.reshape(2, 3)\n",
    "print(reshaped_arr)\n"
   ]
  },
  {
   "cell_type": "code",
   "execution_count": 9,
   "metadata": {},
   "outputs": [
    {
     "name": "stdout",
     "output_type": "stream",
     "text": [
      "[5 7 9]\n",
      "[-3 -3 -3]\n",
      "[ 4 10 18]\n",
      "[0.25 0.4  0.5 ]\n",
      "[  1  32 729]\n"
     ]
    }
   ],
   "source": [
    "#Perform element-wise operations:\n",
    "\n",
    "a = np.array([1, 2, 3])\n",
    "b = np.array([4, 5, 6])\n",
    "\n",
    "# Addition\n",
    "addition = a + b\n",
    "print(addition)\n",
    "\n",
    "# Subtraction\n",
    "subtraction = a - b\n",
    "print(subtraction)\n",
    "\n",
    "# Multiplication\n",
    "multiplication = a * b\n",
    "print(multiplication)\n",
    "\n",
    "# Division\n",
    "division = a / b\n",
    "print(division)\n",
    "\n",
    "# Exponentiation\n",
    "exponentiation = a ** b\n",
    "print(exponentiation)\n",
    "\n"
   ]
  },
  {
   "cell_type": "code",
   "execution_count": 10,
   "metadata": {},
   "outputs": [
    {
     "data": {
      "text/plain": [
       "array([4, 2, 2])"
      ]
     },
     "execution_count": 10,
     "metadata": {},
     "output_type": "execute_result"
    }
   ],
   "source": [
    "b//a "
   ]
  },
  {
   "cell_type": "code",
   "execution_count": 12,
   "metadata": {},
   "outputs": [
    {
     "data": {
      "text/plain": [
       "1"
      ]
     },
     "execution_count": 12,
     "metadata": {},
     "output_type": "execute_result"
    }
   ],
   "source": [
    "8 // 5\n",
    "# 1*5 +3"
   ]
  },
  {
   "cell_type": "code",
   "execution_count": 13,
   "metadata": {},
   "outputs": [
    {
     "name": "stdout",
     "output_type": "stream",
     "text": [
      "[[19 22]\n",
      " [43 50]]\n"
     ]
    }
   ],
   "source": [
    "#Perform matrix multiplication:\n",
    "\n",
    "mat_a = np.array([[1, 2], \n",
    "                  [3, 4]])\n",
    "mat_b = np.array([[5, 6], \n",
    "                  [7, 8]])\n",
    "\n",
    "mat_mult = np.dot(mat_a, mat_b)\n",
    "print(mat_mult)\n",
    "\n",
    "\n",
    "#           | a  b |   | e  f |     | ae + bg   af + bh |\n",
    "# Matrix A = |      | * |      |  =  |                    |\n",
    "#           | c  d |   | g  h |     | ce + dg   cf + dh |\n"
   ]
  },
  {
   "cell_type": "code",
   "execution_count": 14,
   "metadata": {},
   "outputs": [],
   "source": [
    "#Access elements by indexing:\n",
    "\n",
    "arr = np.array([1, 2, 3, 4, 5])"
   ]
  },
  {
   "cell_type": "code",
   "execution_count": 15,
   "metadata": {},
   "outputs": [
    {
     "name": "stdout",
     "output_type": "stream",
     "text": [
      "1\n"
     ]
    }
   ],
   "source": [
    "# Access the first element\n",
    "first_element = arr[0]\n",
    "print(first_element)"
   ]
  },
  {
   "cell_type": "code",
   "execution_count": 16,
   "metadata": {},
   "outputs": [
    {
     "name": "stdout",
     "output_type": "stream",
     "text": [
      "[2 3 4]\n"
     ]
    }
   ],
   "source": [
    "# Access a range of elements\n",
    "range_elements = arr[1:4]\n",
    "print(range_elements)"
   ]
  },
  {
   "cell_type": "code",
   "execution_count": 20,
   "metadata": {},
   "outputs": [
    {
     "name": "stdout",
     "output_type": "stream",
     "text": [
      "[1 3 5]\n"
     ]
    }
   ],
   "source": [
    "# Access elements with a step\n",
    "step_elements = arr[::2]\n",
    "print(step_elements)"
   ]
  },
  {
   "cell_type": "code",
   "execution_count": 22,
   "metadata": {},
   "outputs": [
    {
     "name": "stdout",
     "output_type": "stream",
     "text": [
      "[1 2]\n"
     ]
    }
   ],
   "source": [
    "# Access elements with a step\n",
    "step_elements = arr[:2]\n",
    "print(step_elements)"
   ]
  },
  {
   "cell_type": "code",
   "execution_count": 23,
   "metadata": {},
   "outputs": [
    {
     "name": "stdout",
     "output_type": "stream",
     "text": [
      "3.0\n",
      "[2. 5.]\n",
      "[2.5 3.5 4.5]\n"
     ]
    }
   ],
   "source": [
    "# Calculating mean\n",
    "\n",
    "arr = np.array([1, 2, 3, 4, 5])\n",
    "\n",
    "# Mean of the entire array\n",
    "mean = np.mean(arr)\n",
    "print(mean)\n",
    "\n",
    "# Mean row-wise in a 2D array\n",
    "arr_2d = np.array([[1, 2, 3], \n",
    "                   [4, 5, 6]])\n",
    "mean_row_wise = np.mean(arr_2d, axis=1)\n",
    "print(mean_row_wise)\n",
    "\n",
    "# Mean column-wise in a 2D array\n",
    "mean_col_wise = np.mean(arr_2d, axis=0)\n",
    "print(mean_col_wise)"
   ]
  },
  {
   "cell_type": "code",
   "execution_count": 24,
   "metadata": {},
   "outputs": [
    {
     "name": "stdout",
     "output_type": "stream",
     "text": [
      "3.0\n",
      "[2. 5.]\n",
      "[2.5 3.5 4.5]\n"
     ]
    }
   ],
   "source": [
    "# Calculating Median\n",
    "\n",
    "arr = np.array([1, 2, 3, 4, 5])\n",
    "\n",
    "# Median of the entire array\n",
    "median = np.median(arr)\n",
    "print(median)\n",
    "\n",
    "# Median row-wise in a 2D array\n",
    "arr_2d = np.array([[1, 2, 3], \n",
    "                   [4, 5, 6]])\n",
    "median_row_wise = np.median(arr_2d, axis=1)\n",
    "print(median_row_wise)\n",
    "\n",
    "# Median column-wise in a 2D array\n",
    "median_col_wise = np.median(arr_2d, axis=0)\n",
    "print(median_col_wise)"
   ]
  },
  {
   "cell_type": "code",
   "execution_count": 25,
   "metadata": {},
   "outputs": [
    {
     "name": "stdout",
     "output_type": "stream",
     "text": [
      "3.5\n"
     ]
    }
   ],
   "source": [
    "arr = np.array([1, 2, 3, 4, 5, 6]) # Number of elements are even\n",
    "# Median of the entire array\n",
    "median = np.median(arr)\n",
    "print(median)"
   ]
  },
  {
   "cell_type": "code",
   "execution_count": 26,
   "metadata": {},
   "outputs": [
    {
     "name": "stdout",
     "output_type": "stream",
     "text": [
      "1.4142135623730951\n",
      "[0.81649658 0.81649658]\n",
      "[1.5 1.5 1.5]\n"
     ]
    }
   ],
   "source": [
    "#Calculate the standard deviation:\n",
    "\n",
    "arr = np.array([1, 2, 3, 4, 5])\n",
    "\n",
    "# Standard deviation of the entire array\n",
    "std_dev = np.std(arr)\n",
    "print(std_dev)\n",
    "\n",
    "# Standard deviation row-wise in a 2D array\n",
    "arr_2d = np.array([[1, 2, 3], \n",
    "                   [4, 5, 6]])\n",
    "std_dev_row_wise = np.std(arr_2d, axis=1)\n",
    "print(std_dev_row_wise)\n",
    "\n",
    "# Standard deviation column-wise in a 2D array\n",
    "std_dev_col_wise = np.std(arr_2d, axis=0)\n",
    "print(std_dev_col_wise)"
   ]
  },
  {
   "cell_type": "code",
   "execution_count": 27,
   "metadata": {},
   "outputs": [
    {
     "name": "stdout",
     "output_type": "stream",
     "text": [
      "2.0\n",
      "[0.66666667 0.66666667]\n",
      "[2.25 2.25 2.25]\n"
     ]
    }
   ],
   "source": [
    "# Calculate the variance: # the square of std\n",
    "\n",
    "arr = np.array([1, 2, 3, 4, 5])\n",
    "\n",
    "# Variance of the entire array\n",
    "variance = np.var(arr)\n",
    "print(variance)\n",
    "\n",
    "# Variance row-wise in a 2D array\n",
    "arr_2d = np.array([[1, 2, 3], [4, 5, 6]])\n",
    "variance_row_wise = np.var(arr_2d, axis=1)\n",
    "print(variance_row_wise)\n",
    "\n",
    "# Variance column-wise in a 2D array\n",
    "variance_col_wise = np.var(arr_2d, axis=0)\n",
    "print(variance_col_wise)"
   ]
  },
  {
   "cell_type": "markdown",
   "metadata": {},
   "source": [
    "## Introduction to Pandas"
   ]
  },
  {
   "cell_type": "markdown",
   "metadata": {},
   "source": [
    "Pandas is a powerful open-source library in Python that provides high-performance data manipulation and analysis tools. It is built on top of NumPy and is widely used for tasks such as data cleaning, data preprocessing, data wrangling, and exploratory data analysis. Pandas offers two main data structures: the Series and DataFrame.\n",
    "\n",
    "Here are some key features and benefits of Pandas:\n",
    "\n",
    "1. DataFrame: The DataFrame is a 2-dimensional labeled data structure in Pandas that represents tabular data, similar to a table in a relational database or a spreadsheet. It allows you to store and manipulate structured data efficiently. DataFrames can handle heterogeneous data types and offer a wide range of operations for indexing, merging, reshaping, and aggregating data.\n",
    "\n",
    "2. Series: The Series is a one-dimensional labeled array in Pandas. It is similar to a column in a DataFrame or a labeled NumPy array. Series objects can hold any data type and provide powerful indexing capabilities. They are often used to represent a single column or a single row of data.\n",
    "\n",
    "3. Data Alignment: Pandas supports automatic data alignment during operations. When performing operations on multiple Series or DataFrames, Pandas aligns the data based on the labels, making it easy to perform calculations and manipulations across different datasets.\n",
    "\n",
    "4. Data Cleaning and Preprocessing: Pandas provides a wide range of functions and methods for cleaning and preprocessing data. It allows you to handle missing data, perform data imputation, remove duplicates, handle outliers, and perform data transformations easily.\n",
    "\n",
    "5. Data Exploration and Analysis: Pandas offers extensive functionality for exploratory data analysis. You can perform descriptive statistics, aggregations, filtering, sorting, grouping, and more. It also integrates well with other libraries for visualizations such as Matplotlib and Seaborn.\n",
    "\n",
    "6. Data Input and Output: Pandas supports reading and writing data in various file formats, including CSV, Excel, SQL databases, and more. It provides convenient functions to import and export data, making it easy to work with data from different sources.\n",
    "\n",
    "7. Integration with NumPy and Scikit-Learn: Pandas seamlessly integrates with NumPy and Scikit-Learn, enabling smooth data exchange between these libraries. It allows you to combine the power of Pandas for data manipulation with the capabilities of NumPy for efficient numerical operations and Scikit-Learn for machine learning tasks.\n",
    "\n",
    "Pandas is widely used in data analysis, data science, finance, research, and many other domains. Its intuitive and flexible API, along with its extensive set of functions and tools, make it a go-to library for working with structured data in Python."
   ]
  },
  {
   "cell_type": "markdown",
   "metadata": {},
   "source": [
    "### ETL(Extract, Transform, Load)"
   ]
  },
  {
   "cell_type": "code",
   "execution_count": 28,
   "metadata": {},
   "outputs": [],
   "source": [
    "# importing pandas library\n",
    "import pandas as pd \n",
    "\n",
    "#Note that if you have not installed Numpy to your computer you cand do it by following code after # sign\n",
    "\n",
    "# pip install pandas ---> in you terminal\n",
    "# !pip install pandas ---> in jupyter cell"
   ]
  },
  {
   "cell_type": "code",
   "execution_count": 29,
   "metadata": {},
   "outputs": [],
   "source": [
    "import random\n",
    "import pandas as pd\n",
    "\n",
    "# Define the range for longitude and latitude\n",
    "lon_range = (-105, -100)\n",
    "lat_range = (50, 52)\n",
    "\n",
    "# Define the list of soil types\n",
    "soil_types = ['black', 'gray', 'dark brown', 'brown', None]\n",
    "\n",
    "# Create an empty list to store the farms\n",
    "farms = []\n",
    "\n",
    "# Generate 100 farms\n",
    "for i in range(100):\n",
    "    farm = {\n",
    "        'farm_name': f'Farm {i+1}', # f is formated string\n",
    "        'farm_lon': round(random.uniform(lon_range[0], lon_range[1]), 2), # random lon with 2 decimal points\n",
    "        'farm_lat': round(random.uniform(lat_range[0], lat_range[1]), 2), # rantom lat with 2 decimal points\n",
    "        'temperature': round(random.uniform(18, 25), 1), #random temp with 1 decimal points\n",
    "        'precipitation': round(random.uniform(20, 50), 1), # random prec with 1 decimal points\n",
    "        'soil_type': random.choice(soil_types) # random soil types from above list\n",
    "    }\n",
    "    farms.append(farm) "
   ]
  },
  {
   "cell_type": "code",
   "execution_count": 30,
   "metadata": {},
   "outputs": [],
   "source": [
    "df=pd.DataFrame(farms)"
   ]
  },
  {
   "cell_type": "code",
   "execution_count": 31,
   "metadata": {},
   "outputs": [
    {
     "data": {
      "text/html": [
       "<div>\n",
       "<style scoped>\n",
       "    .dataframe tbody tr th:only-of-type {\n",
       "        vertical-align: middle;\n",
       "    }\n",
       "\n",
       "    .dataframe tbody tr th {\n",
       "        vertical-align: top;\n",
       "    }\n",
       "\n",
       "    .dataframe thead th {\n",
       "        text-align: right;\n",
       "    }\n",
       "</style>\n",
       "<table border=\"1\" class=\"dataframe\">\n",
       "  <thead>\n",
       "    <tr style=\"text-align: right;\">\n",
       "      <th></th>\n",
       "      <th>farm_name</th>\n",
       "      <th>farm_lon</th>\n",
       "      <th>farm_lat</th>\n",
       "      <th>temperature</th>\n",
       "      <th>precipitation</th>\n",
       "      <th>soil_type</th>\n",
       "    </tr>\n",
       "  </thead>\n",
       "  <tbody>\n",
       "    <tr>\n",
       "      <th>0</th>\n",
       "      <td>Farm 1</td>\n",
       "      <td>-101.34</td>\n",
       "      <td>51.58</td>\n",
       "      <td>24.6</td>\n",
       "      <td>45.5</td>\n",
       "      <td>gray</td>\n",
       "    </tr>\n",
       "    <tr>\n",
       "      <th>1</th>\n",
       "      <td>Farm 2</td>\n",
       "      <td>-101.59</td>\n",
       "      <td>51.54</td>\n",
       "      <td>21.5</td>\n",
       "      <td>40.7</td>\n",
       "      <td>dark brown</td>\n",
       "    </tr>\n",
       "    <tr>\n",
       "      <th>2</th>\n",
       "      <td>Farm 3</td>\n",
       "      <td>-102.48</td>\n",
       "      <td>50.34</td>\n",
       "      <td>18.9</td>\n",
       "      <td>37.8</td>\n",
       "      <td>dark brown</td>\n",
       "    </tr>\n",
       "    <tr>\n",
       "      <th>3</th>\n",
       "      <td>Farm 4</td>\n",
       "      <td>-103.23</td>\n",
       "      <td>50.20</td>\n",
       "      <td>22.0</td>\n",
       "      <td>41.2</td>\n",
       "      <td>brown</td>\n",
       "    </tr>\n",
       "    <tr>\n",
       "      <th>4</th>\n",
       "      <td>Farm 5</td>\n",
       "      <td>-102.01</td>\n",
       "      <td>50.64</td>\n",
       "      <td>19.6</td>\n",
       "      <td>21.7</td>\n",
       "      <td>None</td>\n",
       "    </tr>\n",
       "  </tbody>\n",
       "</table>\n",
       "</div>"
      ],
      "text/plain": [
       "  farm_name  farm_lon  farm_lat  temperature  precipitation   soil_type\n",
       "0    Farm 1   -101.34     51.58         24.6           45.5        gray\n",
       "1    Farm 2   -101.59     51.54         21.5           40.7  dark brown\n",
       "2    Farm 3   -102.48     50.34         18.9           37.8  dark brown\n",
       "3    Farm 4   -103.23     50.20         22.0           41.2       brown\n",
       "4    Farm 5   -102.01     50.64         19.6           21.7        None"
      ]
     },
     "execution_count": 31,
     "metadata": {},
     "output_type": "execute_result"
    }
   ],
   "source": [
    "# df.head first 5 rows\n",
    "df.head()"
   ]
  },
  {
   "cell_type": "code",
   "execution_count": 32,
   "metadata": {},
   "outputs": [
    {
     "data": {
      "text/html": [
       "<div>\n",
       "<style scoped>\n",
       "    .dataframe tbody tr th:only-of-type {\n",
       "        vertical-align: middle;\n",
       "    }\n",
       "\n",
       "    .dataframe tbody tr th {\n",
       "        vertical-align: top;\n",
       "    }\n",
       "\n",
       "    .dataframe thead th {\n",
       "        text-align: right;\n",
       "    }\n",
       "</style>\n",
       "<table border=\"1\" class=\"dataframe\">\n",
       "  <thead>\n",
       "    <tr style=\"text-align: right;\">\n",
       "      <th></th>\n",
       "      <th>farm_name</th>\n",
       "      <th>farm_lon</th>\n",
       "      <th>farm_lat</th>\n",
       "      <th>temperature</th>\n",
       "      <th>precipitation</th>\n",
       "      <th>soil_type</th>\n",
       "    </tr>\n",
       "  </thead>\n",
       "  <tbody>\n",
       "    <tr>\n",
       "      <th>95</th>\n",
       "      <td>Farm 96</td>\n",
       "      <td>-102.84</td>\n",
       "      <td>50.09</td>\n",
       "      <td>23.8</td>\n",
       "      <td>43.7</td>\n",
       "      <td>None</td>\n",
       "    </tr>\n",
       "    <tr>\n",
       "      <th>96</th>\n",
       "      <td>Farm 97</td>\n",
       "      <td>-104.04</td>\n",
       "      <td>51.39</td>\n",
       "      <td>22.0</td>\n",
       "      <td>26.0</td>\n",
       "      <td>None</td>\n",
       "    </tr>\n",
       "    <tr>\n",
       "      <th>97</th>\n",
       "      <td>Farm 98</td>\n",
       "      <td>-101.74</td>\n",
       "      <td>50.27</td>\n",
       "      <td>23.9</td>\n",
       "      <td>39.3</td>\n",
       "      <td>gray</td>\n",
       "    </tr>\n",
       "    <tr>\n",
       "      <th>98</th>\n",
       "      <td>Farm 99</td>\n",
       "      <td>-104.86</td>\n",
       "      <td>51.69</td>\n",
       "      <td>19.9</td>\n",
       "      <td>42.0</td>\n",
       "      <td>gray</td>\n",
       "    </tr>\n",
       "    <tr>\n",
       "      <th>99</th>\n",
       "      <td>Farm 100</td>\n",
       "      <td>-101.78</td>\n",
       "      <td>50.89</td>\n",
       "      <td>20.8</td>\n",
       "      <td>37.0</td>\n",
       "      <td>black</td>\n",
       "    </tr>\n",
       "  </tbody>\n",
       "</table>\n",
       "</div>"
      ],
      "text/plain": [
       "   farm_name  farm_lon  farm_lat  temperature  precipitation soil_type\n",
       "95   Farm 96   -102.84     50.09         23.8           43.7      None\n",
       "96   Farm 97   -104.04     51.39         22.0           26.0      None\n",
       "97   Farm 98   -101.74     50.27         23.9           39.3      gray\n",
       "98   Farm 99   -104.86     51.69         19.9           42.0      gray\n",
       "99  Farm 100   -101.78     50.89         20.8           37.0     black"
      ]
     },
     "execution_count": 32,
     "metadata": {},
     "output_type": "execute_result"
    }
   ],
   "source": [
    "# df.tail last 5 rows\n",
    "df.tail()"
   ]
  },
  {
   "cell_type": "code",
   "execution_count": 33,
   "metadata": {},
   "outputs": [
    {
     "data": {
      "text/html": [
       "<div>\n",
       "<style scoped>\n",
       "    .dataframe tbody tr th:only-of-type {\n",
       "        vertical-align: middle;\n",
       "    }\n",
       "\n",
       "    .dataframe tbody tr th {\n",
       "        vertical-align: top;\n",
       "    }\n",
       "\n",
       "    .dataframe thead th {\n",
       "        text-align: right;\n",
       "    }\n",
       "</style>\n",
       "<table border=\"1\" class=\"dataframe\">\n",
       "  <thead>\n",
       "    <tr style=\"text-align: right;\">\n",
       "      <th></th>\n",
       "      <th>farm_name</th>\n",
       "      <th>farm_lon</th>\n",
       "      <th>farm_lat</th>\n",
       "      <th>temperature</th>\n",
       "      <th>precipitation</th>\n",
       "      <th>soil_type</th>\n",
       "    </tr>\n",
       "  </thead>\n",
       "  <tbody>\n",
       "    <tr>\n",
       "      <th>0</th>\n",
       "      <td>Farm 1</td>\n",
       "      <td>-101.34</td>\n",
       "      <td>51.58</td>\n",
       "      <td>24.6</td>\n",
       "      <td>45.5</td>\n",
       "      <td>gray</td>\n",
       "    </tr>\n",
       "    <tr>\n",
       "      <th>1</th>\n",
       "      <td>Farm 2</td>\n",
       "      <td>-101.59</td>\n",
       "      <td>51.54</td>\n",
       "      <td>21.5</td>\n",
       "      <td>40.7</td>\n",
       "      <td>dark brown</td>\n",
       "    </tr>\n",
       "    <tr>\n",
       "      <th>2</th>\n",
       "      <td>Farm 3</td>\n",
       "      <td>-102.48</td>\n",
       "      <td>50.34</td>\n",
       "      <td>18.9</td>\n",
       "      <td>37.8</td>\n",
       "      <td>dark brown</td>\n",
       "    </tr>\n",
       "    <tr>\n",
       "      <th>3</th>\n",
       "      <td>Farm 4</td>\n",
       "      <td>-103.23</td>\n",
       "      <td>50.20</td>\n",
       "      <td>22.0</td>\n",
       "      <td>41.2</td>\n",
       "      <td>brown</td>\n",
       "    </tr>\n",
       "    <tr>\n",
       "      <th>4</th>\n",
       "      <td>Farm 5</td>\n",
       "      <td>-102.01</td>\n",
       "      <td>50.64</td>\n",
       "      <td>19.6</td>\n",
       "      <td>21.7</td>\n",
       "      <td>None</td>\n",
       "    </tr>\n",
       "    <tr>\n",
       "      <th>5</th>\n",
       "      <td>Farm 6</td>\n",
       "      <td>-101.26</td>\n",
       "      <td>50.74</td>\n",
       "      <td>21.1</td>\n",
       "      <td>36.6</td>\n",
       "      <td>brown</td>\n",
       "    </tr>\n",
       "    <tr>\n",
       "      <th>6</th>\n",
       "      <td>Farm 7</td>\n",
       "      <td>-103.68</td>\n",
       "      <td>51.87</td>\n",
       "      <td>23.9</td>\n",
       "      <td>40.3</td>\n",
       "      <td>black</td>\n",
       "    </tr>\n",
       "    <tr>\n",
       "      <th>7</th>\n",
       "      <td>Farm 8</td>\n",
       "      <td>-102.67</td>\n",
       "      <td>50.14</td>\n",
       "      <td>19.3</td>\n",
       "      <td>45.4</td>\n",
       "      <td>dark brown</td>\n",
       "    </tr>\n",
       "    <tr>\n",
       "      <th>8</th>\n",
       "      <td>Farm 9</td>\n",
       "      <td>-100.89</td>\n",
       "      <td>50.37</td>\n",
       "      <td>20.0</td>\n",
       "      <td>36.5</td>\n",
       "      <td>dark brown</td>\n",
       "    </tr>\n",
       "    <tr>\n",
       "      <th>9</th>\n",
       "      <td>Farm 10</td>\n",
       "      <td>-102.92</td>\n",
       "      <td>50.42</td>\n",
       "      <td>21.9</td>\n",
       "      <td>30.2</td>\n",
       "      <td>None</td>\n",
       "    </tr>\n",
       "    <tr>\n",
       "      <th>10</th>\n",
       "      <td>Farm 11</td>\n",
       "      <td>-100.35</td>\n",
       "      <td>50.69</td>\n",
       "      <td>22.0</td>\n",
       "      <td>27.9</td>\n",
       "      <td>black</td>\n",
       "    </tr>\n",
       "    <tr>\n",
       "      <th>11</th>\n",
       "      <td>Farm 12</td>\n",
       "      <td>-100.63</td>\n",
       "      <td>51.25</td>\n",
       "      <td>18.4</td>\n",
       "      <td>37.3</td>\n",
       "      <td>brown</td>\n",
       "    </tr>\n",
       "  </tbody>\n",
       "</table>\n",
       "</div>"
      ],
      "text/plain": [
       "   farm_name  farm_lon  farm_lat  temperature  precipitation   soil_type\n",
       "0     Farm 1   -101.34     51.58         24.6           45.5        gray\n",
       "1     Farm 2   -101.59     51.54         21.5           40.7  dark brown\n",
       "2     Farm 3   -102.48     50.34         18.9           37.8  dark brown\n",
       "3     Farm 4   -103.23     50.20         22.0           41.2       brown\n",
       "4     Farm 5   -102.01     50.64         19.6           21.7        None\n",
       "5     Farm 6   -101.26     50.74         21.1           36.6       brown\n",
       "6     Farm 7   -103.68     51.87         23.9           40.3       black\n",
       "7     Farm 8   -102.67     50.14         19.3           45.4  dark brown\n",
       "8     Farm 9   -100.89     50.37         20.0           36.5  dark brown\n",
       "9    Farm 10   -102.92     50.42         21.9           30.2        None\n",
       "10   Farm 11   -100.35     50.69         22.0           27.9       black\n",
       "11   Farm 12   -100.63     51.25         18.4           37.3       brown"
      ]
     },
     "execution_count": 33,
     "metadata": {},
     "output_type": "execute_result"
    }
   ],
   "source": [
    "# First 12 raws\n",
    "df.head(12)"
   ]
  },
  {
   "cell_type": "code",
   "execution_count": 34,
   "metadata": {},
   "outputs": [
    {
     "name": "stdout",
     "output_type": "stream",
     "text": [
      "<class 'pandas.core.frame.DataFrame'>\n",
      "RangeIndex: 100 entries, 0 to 99\n",
      "Data columns (total 6 columns):\n",
      " #   Column         Non-Null Count  Dtype  \n",
      "---  ------         --------------  -----  \n",
      " 0   farm_name      100 non-null    object \n",
      " 1   farm_lon       100 non-null    float64\n",
      " 2   farm_lat       100 non-null    float64\n",
      " 3   temperature    100 non-null    float64\n",
      " 4   precipitation  100 non-null    float64\n",
      " 5   soil_type      84 non-null     object \n",
      "dtypes: float64(4), object(2)\n",
      "memory usage: 4.8+ KB\n"
     ]
    }
   ],
   "source": [
    "# Information about df and columns\n",
    "df.info()"
   ]
  },
  {
   "cell_type": "code",
   "execution_count": 35,
   "metadata": {},
   "outputs": [
    {
     "data": {
      "text/plain": [
       "0       Farm 1\n",
       "1       Farm 2\n",
       "2       Farm 3\n",
       "3       Farm 4\n",
       "4       Farm 5\n",
       "        ...   \n",
       "95     Farm 96\n",
       "96     Farm 97\n",
       "97     Farm 98\n",
       "98     Farm 99\n",
       "99    Farm 100\n",
       "Name: farm_name, Length: 100, dtype: object"
      ]
     },
     "execution_count": 35,
     "metadata": {},
     "output_type": "execute_result"
    }
   ],
   "source": [
    "# choosing a column\n",
    "df['farm_name']"
   ]
  },
  {
   "cell_type": "code",
   "execution_count": 36,
   "metadata": {},
   "outputs": [
    {
     "data": {
      "text/html": [
       "<div>\n",
       "<style scoped>\n",
       "    .dataframe tbody tr th:only-of-type {\n",
       "        vertical-align: middle;\n",
       "    }\n",
       "\n",
       "    .dataframe tbody tr th {\n",
       "        vertical-align: top;\n",
       "    }\n",
       "\n",
       "    .dataframe thead th {\n",
       "        text-align: right;\n",
       "    }\n",
       "</style>\n",
       "<table border=\"1\" class=\"dataframe\">\n",
       "  <thead>\n",
       "    <tr style=\"text-align: right;\">\n",
       "      <th></th>\n",
       "      <th>farm_name</th>\n",
       "      <th>soil_type</th>\n",
       "    </tr>\n",
       "  </thead>\n",
       "  <tbody>\n",
       "    <tr>\n",
       "      <th>0</th>\n",
       "      <td>Farm 1</td>\n",
       "      <td>gray</td>\n",
       "    </tr>\n",
       "    <tr>\n",
       "      <th>1</th>\n",
       "      <td>Farm 2</td>\n",
       "      <td>dark brown</td>\n",
       "    </tr>\n",
       "    <tr>\n",
       "      <th>2</th>\n",
       "      <td>Farm 3</td>\n",
       "      <td>dark brown</td>\n",
       "    </tr>\n",
       "    <tr>\n",
       "      <th>3</th>\n",
       "      <td>Farm 4</td>\n",
       "      <td>brown</td>\n",
       "    </tr>\n",
       "    <tr>\n",
       "      <th>4</th>\n",
       "      <td>Farm 5</td>\n",
       "      <td>None</td>\n",
       "    </tr>\n",
       "    <tr>\n",
       "      <th>...</th>\n",
       "      <td>...</td>\n",
       "      <td>...</td>\n",
       "    </tr>\n",
       "    <tr>\n",
       "      <th>95</th>\n",
       "      <td>Farm 96</td>\n",
       "      <td>None</td>\n",
       "    </tr>\n",
       "    <tr>\n",
       "      <th>96</th>\n",
       "      <td>Farm 97</td>\n",
       "      <td>None</td>\n",
       "    </tr>\n",
       "    <tr>\n",
       "      <th>97</th>\n",
       "      <td>Farm 98</td>\n",
       "      <td>gray</td>\n",
       "    </tr>\n",
       "    <tr>\n",
       "      <th>98</th>\n",
       "      <td>Farm 99</td>\n",
       "      <td>gray</td>\n",
       "    </tr>\n",
       "    <tr>\n",
       "      <th>99</th>\n",
       "      <td>Farm 100</td>\n",
       "      <td>black</td>\n",
       "    </tr>\n",
       "  </tbody>\n",
       "</table>\n",
       "<p>100 rows × 2 columns</p>\n",
       "</div>"
      ],
      "text/plain": [
       "   farm_name   soil_type\n",
       "0     Farm 1        gray\n",
       "1     Farm 2  dark brown\n",
       "2     Farm 3  dark brown\n",
       "3     Farm 4       brown\n",
       "4     Farm 5        None\n",
       "..       ...         ...\n",
       "95   Farm 96        None\n",
       "96   Farm 97        None\n",
       "97   Farm 98        gray\n",
       "98   Farm 99        gray\n",
       "99  Farm 100       black\n",
       "\n",
       "[100 rows x 2 columns]"
      ]
     },
     "execution_count": 36,
     "metadata": {},
     "output_type": "execute_result"
    }
   ],
   "source": [
    "# choosing 2 and more columns\n",
    "df[['farm_name', 'soil_type']]"
   ]
  },
  {
   "cell_type": "code",
   "execution_count": 37,
   "metadata": {},
   "outputs": [],
   "source": [
    "# Changin columns data types\n",
    "df['farm_name'] = df['farm_name'].astype('string')\n",
    "df['soil_type'] = df['soil_type'].astype('string')"
   ]
  },
  {
   "cell_type": "code",
   "execution_count": 38,
   "metadata": {},
   "outputs": [
    {
     "name": "stdout",
     "output_type": "stream",
     "text": [
      "<class 'pandas.core.frame.DataFrame'>\n",
      "RangeIndex: 100 entries, 0 to 99\n",
      "Data columns (total 6 columns):\n",
      " #   Column         Non-Null Count  Dtype  \n",
      "---  ------         --------------  -----  \n",
      " 0   farm_name      100 non-null    string \n",
      " 1   farm_lon       100 non-null    float64\n",
      " 2   farm_lat       100 non-null    float64\n",
      " 3   temperature    100 non-null    float64\n",
      " 4   precipitation  100 non-null    float64\n",
      " 5   soil_type      84 non-null     string \n",
      "dtypes: float64(4), string(2)\n",
      "memory usage: 4.8 KB\n"
     ]
    }
   ],
   "source": [
    "df.info()"
   ]
  },
  {
   "cell_type": "markdown",
   "metadata": {},
   "source": [
    "### EDA(Exploratory Data Analysis)"
   ]
  },
  {
   "cell_type": "code",
   "execution_count": 39,
   "metadata": {},
   "outputs": [
    {
     "data": {
      "text/html": [
       "<div>\n",
       "<style scoped>\n",
       "    .dataframe tbody tr th:only-of-type {\n",
       "        vertical-align: middle;\n",
       "    }\n",
       "\n",
       "    .dataframe tbody tr th {\n",
       "        vertical-align: top;\n",
       "    }\n",
       "\n",
       "    .dataframe thead th {\n",
       "        text-align: right;\n",
       "    }\n",
       "</style>\n",
       "<table border=\"1\" class=\"dataframe\">\n",
       "  <thead>\n",
       "    <tr style=\"text-align: right;\">\n",
       "      <th></th>\n",
       "      <th>count</th>\n",
       "      <th>mean</th>\n",
       "      <th>std</th>\n",
       "      <th>min</th>\n",
       "      <th>25%</th>\n",
       "      <th>50%</th>\n",
       "      <th>75%</th>\n",
       "      <th>max</th>\n",
       "    </tr>\n",
       "  </thead>\n",
       "  <tbody>\n",
       "    <tr>\n",
       "      <th>farm_lon</th>\n",
       "      <td>100.0</td>\n",
       "      <td>-102.335</td>\n",
       "      <td>1.379731</td>\n",
       "      <td>-104.99</td>\n",
       "      <td>-103.2225</td>\n",
       "      <td>-102.140</td>\n",
       "      <td>-101.2575</td>\n",
       "      <td>-100.02</td>\n",
       "    </tr>\n",
       "    <tr>\n",
       "      <th>farm_lat</th>\n",
       "      <td>100.0</td>\n",
       "      <td>50.910</td>\n",
       "      <td>0.607984</td>\n",
       "      <td>50.01</td>\n",
       "      <td>50.3775</td>\n",
       "      <td>50.855</td>\n",
       "      <td>51.5225</td>\n",
       "      <td>51.97</td>\n",
       "    </tr>\n",
       "    <tr>\n",
       "      <th>temperature</th>\n",
       "      <td>100.0</td>\n",
       "      <td>21.597</td>\n",
       "      <td>2.029751</td>\n",
       "      <td>18.10</td>\n",
       "      <td>19.9000</td>\n",
       "      <td>21.550</td>\n",
       "      <td>23.7000</td>\n",
       "      <td>25.00</td>\n",
       "    </tr>\n",
       "    <tr>\n",
       "      <th>precipitation</th>\n",
       "      <td>100.0</td>\n",
       "      <td>35.323</td>\n",
       "      <td>8.732857</td>\n",
       "      <td>20.00</td>\n",
       "      <td>27.8000</td>\n",
       "      <td>36.800</td>\n",
       "      <td>41.4750</td>\n",
       "      <td>49.70</td>\n",
       "    </tr>\n",
       "  </tbody>\n",
       "</table>\n",
       "</div>"
      ],
      "text/plain": [
       "               count     mean       std     min       25%      50%       75%  \\\n",
       "farm_lon       100.0 -102.335  1.379731 -104.99 -103.2225 -102.140 -101.2575   \n",
       "farm_lat       100.0   50.910  0.607984   50.01   50.3775   50.855   51.5225   \n",
       "temperature    100.0   21.597  2.029751   18.10   19.9000   21.550   23.7000   \n",
       "precipitation  100.0   35.323  8.732857   20.00   27.8000   36.800   41.4750   \n",
       "\n",
       "                  max  \n",
       "farm_lon      -100.02  \n",
       "farm_lat        51.97  \n",
       "temperature     25.00  \n",
       "precipitation   49.70  "
      ]
     },
     "execution_count": 39,
     "metadata": {},
     "output_type": "execute_result"
    }
   ],
   "source": [
    "df.describe().T"
   ]
  },
  {
   "cell_type": "code",
   "execution_count": 40,
   "metadata": {},
   "outputs": [
    {
     "data": {
      "text/html": [
       "<div>\n",
       "<style scoped>\n",
       "    .dataframe tbody tr th:only-of-type {\n",
       "        vertical-align: middle;\n",
       "    }\n",
       "\n",
       "    .dataframe tbody tr th {\n",
       "        vertical-align: top;\n",
       "    }\n",
       "\n",
       "    .dataframe thead th {\n",
       "        text-align: right;\n",
       "    }\n",
       "</style>\n",
       "<table border=\"1\" class=\"dataframe\">\n",
       "  <thead>\n",
       "    <tr style=\"text-align: right;\">\n",
       "      <th></th>\n",
       "      <th>count</th>\n",
       "      <th>mean</th>\n",
       "      <th>std</th>\n",
       "      <th>min</th>\n",
       "      <th>25%</th>\n",
       "      <th>50%</th>\n",
       "      <th>75%</th>\n",
       "      <th>max</th>\n",
       "    </tr>\n",
       "  </thead>\n",
       "  <tbody>\n",
       "    <tr>\n",
       "      <th>temperature</th>\n",
       "      <td>100.0</td>\n",
       "      <td>21.597</td>\n",
       "      <td>2.029751</td>\n",
       "      <td>18.1</td>\n",
       "      <td>19.9</td>\n",
       "      <td>21.55</td>\n",
       "      <td>23.700</td>\n",
       "      <td>25.0</td>\n",
       "    </tr>\n",
       "    <tr>\n",
       "      <th>precipitation</th>\n",
       "      <td>100.0</td>\n",
       "      <td>35.323</td>\n",
       "      <td>8.732857</td>\n",
       "      <td>20.0</td>\n",
       "      <td>27.8</td>\n",
       "      <td>36.80</td>\n",
       "      <td>41.475</td>\n",
       "      <td>49.7</td>\n",
       "    </tr>\n",
       "  </tbody>\n",
       "</table>\n",
       "</div>"
      ],
      "text/plain": [
       "               count    mean       std   min   25%    50%     75%   max\n",
       "temperature    100.0  21.597  2.029751  18.1  19.9  21.55  23.700  25.0\n",
       "precipitation  100.0  35.323  8.732857  20.0  27.8  36.80  41.475  49.7"
      ]
     },
     "execution_count": 40,
     "metadata": {},
     "output_type": "execute_result"
    }
   ],
   "source": [
    "# Choosing spesific columns\n",
    "df[['temperature', 'precipitation']].describe().T"
   ]
  },
  {
   "cell_type": "code",
   "execution_count": 41,
   "metadata": {},
   "outputs": [
    {
     "data": {
      "text/html": [
       "<div>\n",
       "<style scoped>\n",
       "    .dataframe tbody tr th:only-of-type {\n",
       "        vertical-align: middle;\n",
       "    }\n",
       "\n",
       "    .dataframe tbody tr th {\n",
       "        vertical-align: top;\n",
       "    }\n",
       "\n",
       "    .dataframe thead th {\n",
       "        text-align: right;\n",
       "    }\n",
       "</style>\n",
       "<table border=\"1\" class=\"dataframe\">\n",
       "  <thead>\n",
       "    <tr style=\"text-align: right;\">\n",
       "      <th></th>\n",
       "      <th>count</th>\n",
       "      <th>mean</th>\n",
       "      <th>std</th>\n",
       "      <th>min</th>\n",
       "      <th>25%</th>\n",
       "      <th>50%</th>\n",
       "      <th>75%</th>\n",
       "      <th>max</th>\n",
       "    </tr>\n",
       "  </thead>\n",
       "  <tbody>\n",
       "    <tr>\n",
       "      <th>temperature</th>\n",
       "      <td>100.0</td>\n",
       "      <td>21.597</td>\n",
       "      <td>2.029751</td>\n",
       "      <td>18.1</td>\n",
       "      <td>19.9</td>\n",
       "      <td>21.55</td>\n",
       "      <td>23.700</td>\n",
       "      <td>25.0</td>\n",
       "    </tr>\n",
       "    <tr>\n",
       "      <th>precipitation</th>\n",
       "      <td>100.0</td>\n",
       "      <td>35.323</td>\n",
       "      <td>8.732857</td>\n",
       "      <td>20.0</td>\n",
       "      <td>27.8</td>\n",
       "      <td>36.80</td>\n",
       "      <td>41.475</td>\n",
       "      <td>49.7</td>\n",
       "    </tr>\n",
       "  </tbody>\n",
       "</table>\n",
       "</div>"
      ],
      "text/plain": [
       "               count    mean       std   min   25%    50%     75%   max\n",
       "temperature    100.0  21.597  2.029751  18.1  19.9  21.55  23.700  25.0\n",
       "precipitation  100.0  35.323  8.732857  20.0  27.8  36.80  41.475  49.7"
      ]
     },
     "execution_count": 41,
     "metadata": {},
     "output_type": "execute_result"
    }
   ],
   "source": [
    "# Dropping Columns\n",
    "# df.drop(['farm_lon', 'farm_lat'], axis=1)\n",
    "df.drop(columns=['farm_lon', 'farm_lat']).describe().T"
   ]
  },
  {
   "cell_type": "code",
   "execution_count": 42,
   "metadata": {},
   "outputs": [
    {
     "data": {
      "text/plain": [
       "<Axes: >"
      ]
     },
     "execution_count": 42,
     "metadata": {},
     "output_type": "execute_result"
    },
    {
     "data": {
      "image/png": "[encoded data removed]",
      "text/plain": [
       "<Figure size 640x480 with 1 Axes>"
      ]
     },
     "metadata": {},
     "output_type": "display_data"
    }
   ],
   "source": [
    "# Plotting \n",
    "df.drop(columns=['farm_lon', 'farm_lat']).describe().T\\\n",
    "    .plot()"
   ]
  },
  {
   "cell_type": "markdown",
   "metadata": {},
   "source": [
    "## Matplotlib - Data Visualization"
   ]
  },
  {
   "cell_type": "code",
   "execution_count": 43,
   "metadata": {},
   "outputs": [],
   "source": [
    "# Importing Matplotlib\n",
    "import matplotlib.pyplot as plt"
   ]
  },
  {
   "cell_type": "code",
   "execution_count": 44,
   "metadata": {},
   "outputs": [
    {
     "data": {
      "image/png": "[encoded data removed]",
      "text/plain": [
       "<Figure size 640x480 with 1 Axes>"
      ]
     },
     "metadata": {},
     "output_type": "display_data"
    }
   ],
   "source": [
    "\n",
    "# Plotting \n",
    "df.drop(columns=['farm_lon', 'farm_lat']).describe().T\\\n",
    "    .drop(columns='count')\\\n",
    "    .plot(kind='bar')\n",
    "plt.title('Descriptive Statistics', color='green', fontsize=16)\n",
    "plt.xlabel('Weather', color='green',fontsize=14)\n",
    "plt.ylabel('Values', color='green', fontsize=14)\n",
    "plt.xticks(color='red', fontsize=11)\n",
    "plt.yticks(color='red')\n",
    "plt.tight_layout()\n",
    "plt.show()"
   ]
  },
  {
   "cell_type": "code",
   "execution_count": 45,
   "metadata": {},
   "outputs": [
    {
     "data": {
      "image/png": "[encoded data removed]",
      "text/plain": [
       "<Figure size 640x480 with 2 Axes>"
      ]
     },
     "metadata": {},
     "output_type": "display_data"
    }
   ],
   "source": [
    "df.drop(columns=['farm_lon', 'farm_lat']).hist(bins=50)\n",
    "plt.tight_layout()\n",
    "plt.show()"
   ]
  },
  {
   "cell_type": "code",
   "execution_count": 46,
   "metadata": {},
   "outputs": [
    {
     "data": {
      "text/plain": [
       "<Axes: >"
      ]
     },
     "execution_count": 46,
     "metadata": {},
     "output_type": "execute_result"
    },
    {
     "data": {
      "image/png": "[encoded data removed]",
      "text/plain": [
       "<Figure size 640x480 with 1 Axes>"
      ]
     },
     "metadata": {},
     "output_type": "display_data"
    }
   ],
   "source": [
    "# Outlier analysis\n",
    "df.drop(columns=['farm_lon', 'farm_lat']).boxplot()"
   ]
  },
  {
   "cell_type": "code",
   "execution_count": 47,
   "metadata": {},
   "outputs": [],
   "source": [
    "# Drop\n",
    "# Replace with neighboring farms value\n",
    "# Replace with mean, median"
   ]
  },
  {
   "cell_type": "code",
   "execution_count": 48,
   "metadata": {},
   "outputs": [
    {
     "data": {
      "image/png": "[encoded data removed]",
      "text/plain": [
       "<Figure size 640x480 with 1 Axes>"
      ]
     },
     "metadata": {},
     "output_type": "display_data"
    }
   ],
   "source": [
    "df.isna().sum().plot(kind='bar')\n",
    "plt.title('Missing Values', color='green', fontsize=16)\n",
    "plt.xlabel('Features', color='green',fontsize=14)\n",
    "plt.ylabel('# of missing values', color='green', fontsize=14)\n",
    "plt.xticks(color='red', fontsize=11)\n",
    "plt.yticks(color='red')\n",
    "plt.tight_layout()\n",
    "plt.show()"
   ]
  },
  {
   "cell_type": "code",
   "execution_count": 49,
   "metadata": {},
   "outputs": [
    {
     "data": {
      "text/html": [
       "<div>\n",
       "<style scoped>\n",
       "    .dataframe tbody tr th:only-of-type {\n",
       "        vertical-align: middle;\n",
       "    }\n",
       "\n",
       "    .dataframe tbody tr th {\n",
       "        vertical-align: top;\n",
       "    }\n",
       "\n",
       "    .dataframe thead th {\n",
       "        text-align: right;\n",
       "    }\n",
       "</style>\n",
       "<table border=\"1\" class=\"dataframe\">\n",
       "  <thead>\n",
       "    <tr style=\"text-align: right;\">\n",
       "      <th></th>\n",
       "      <th>farm_name</th>\n",
       "      <th>farm_lon</th>\n",
       "      <th>farm_lat</th>\n",
       "      <th>temperature</th>\n",
       "      <th>precipitation</th>\n",
       "      <th>soil_type</th>\n",
       "    </tr>\n",
       "  </thead>\n",
       "  <tbody>\n",
       "    <tr>\n",
       "      <th>0</th>\n",
       "      <td>Farm 1</td>\n",
       "      <td>-101.34</td>\n",
       "      <td>51.58</td>\n",
       "      <td>24.6</td>\n",
       "      <td>45.5</td>\n",
       "      <td>gray</td>\n",
       "    </tr>\n",
       "    <tr>\n",
       "      <th>1</th>\n",
       "      <td>Farm 2</td>\n",
       "      <td>-101.59</td>\n",
       "      <td>51.54</td>\n",
       "      <td>21.5</td>\n",
       "      <td>40.7</td>\n",
       "      <td>dark brown</td>\n",
       "    </tr>\n",
       "    <tr>\n",
       "      <th>2</th>\n",
       "      <td>Farm 3</td>\n",
       "      <td>-102.48</td>\n",
       "      <td>50.34</td>\n",
       "      <td>18.9</td>\n",
       "      <td>37.8</td>\n",
       "      <td>dark brown</td>\n",
       "    </tr>\n",
       "    <tr>\n",
       "      <th>3</th>\n",
       "      <td>Farm 4</td>\n",
       "      <td>-103.23</td>\n",
       "      <td>50.20</td>\n",
       "      <td>22.0</td>\n",
       "      <td>41.2</td>\n",
       "      <td>brown</td>\n",
       "    </tr>\n",
       "    <tr>\n",
       "      <th>4</th>\n",
       "      <td>Farm 5</td>\n",
       "      <td>-102.01</td>\n",
       "      <td>50.64</td>\n",
       "      <td>19.6</td>\n",
       "      <td>21.7</td>\n",
       "      <td>&lt;NA&gt;</td>\n",
       "    </tr>\n",
       "    <tr>\n",
       "      <th>...</th>\n",
       "      <td>...</td>\n",
       "      <td>...</td>\n",
       "      <td>...</td>\n",
       "      <td>...</td>\n",
       "      <td>...</td>\n",
       "      <td>...</td>\n",
       "    </tr>\n",
       "    <tr>\n",
       "      <th>95</th>\n",
       "      <td>Farm 96</td>\n",
       "      <td>-102.84</td>\n",
       "      <td>50.09</td>\n",
       "      <td>23.8</td>\n",
       "      <td>43.7</td>\n",
       "      <td>&lt;NA&gt;</td>\n",
       "    </tr>\n",
       "    <tr>\n",
       "      <th>96</th>\n",
       "      <td>Farm 97</td>\n",
       "      <td>-104.04</td>\n",
       "      <td>51.39</td>\n",
       "      <td>22.0</td>\n",
       "      <td>26.0</td>\n",
       "      <td>&lt;NA&gt;</td>\n",
       "    </tr>\n",
       "    <tr>\n",
       "      <th>97</th>\n",
       "      <td>Farm 98</td>\n",
       "      <td>-101.74</td>\n",
       "      <td>50.27</td>\n",
       "      <td>23.9</td>\n",
       "      <td>39.3</td>\n",
       "      <td>gray</td>\n",
       "    </tr>\n",
       "    <tr>\n",
       "      <th>98</th>\n",
       "      <td>Farm 99</td>\n",
       "      <td>-104.86</td>\n",
       "      <td>51.69</td>\n",
       "      <td>19.9</td>\n",
       "      <td>42.0</td>\n",
       "      <td>gray</td>\n",
       "    </tr>\n",
       "    <tr>\n",
       "      <th>99</th>\n",
       "      <td>Farm 100</td>\n",
       "      <td>-101.78</td>\n",
       "      <td>50.89</td>\n",
       "      <td>20.8</td>\n",
       "      <td>37.0</td>\n",
       "      <td>black</td>\n",
       "    </tr>\n",
       "  </tbody>\n",
       "</table>\n",
       "<p>100 rows × 6 columns</p>\n",
       "</div>"
      ],
      "text/plain": [
       "   farm_name  farm_lon  farm_lat  temperature  precipitation   soil_type\n",
       "0     Farm 1   -101.34     51.58         24.6           45.5        gray\n",
       "1     Farm 2   -101.59     51.54         21.5           40.7  dark brown\n",
       "2     Farm 3   -102.48     50.34         18.9           37.8  dark brown\n",
       "3     Farm 4   -103.23     50.20         22.0           41.2       brown\n",
       "4     Farm 5   -102.01     50.64         19.6           21.7        <NA>\n",
       "..       ...       ...       ...          ...            ...         ...\n",
       "95   Farm 96   -102.84     50.09         23.8           43.7        <NA>\n",
       "96   Farm 97   -104.04     51.39         22.0           26.0        <NA>\n",
       "97   Farm 98   -101.74     50.27         23.9           39.3        gray\n",
       "98   Farm 99   -104.86     51.69         19.9           42.0        gray\n",
       "99  Farm 100   -101.78     50.89         20.8           37.0       black\n",
       "\n",
       "[100 rows x 6 columns]"
      ]
     },
     "execution_count": 49,
     "metadata": {},
     "output_type": "execute_result"
    }
   ],
   "source": [
    "df"
   ]
  },
  {
   "cell_type": "code",
   "execution_count": null,
   "metadata": {},
   "outputs": [],
   "source": []
  }
 ],
 "metadata": {
  "kernelspec": {
   "display_name": "Python 3 (ipykernel)",
   "language": "python",
   "name": "python3"
  },
  "language_info": {
   "codemirror_mode": {
    "name": "ipython",
    "version": 3
   },
   "file_extension": ".py",
   "mimetype": "text/x-python",
   "name": "python",
   "nbconvert_exporter": "python",
   "pygments_lexer": "ipython3",
   "version": "3.11.5"
  }
 },
 "nbformat": 4,
 "nbformat_minor": 2
}
