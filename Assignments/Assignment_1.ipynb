{
 "cells": [
  {
   "cell_type": "markdown",
   "metadata": {},
   "source": [
    "**Please follow the instructions. Do not add new cell! Write your code in designated areas.**"
   ]
  },
  {
   "cell_type": "code",
   "execution_count": 1,
   "metadata": {},
   "outputs": [
    {
     "name": "stdout",
     "output_type": "stream",
     "text": [
      "Assignment 1: Solutions by Lakshmi Kadali\n",
      "Local Time: 2024-02-03 20:07:20\n",
      "Computer ID: Monster2\n"
     ]
    }
   ],
   "source": [
    "import datetime\n",
    "import socket\n",
    "\n",
    "# Get local time\n",
    "local_time = datetime.datetime.now().strftime(\"%Y-%m-%d %H:%M:%S\")\n",
    "\n",
    "# Get computer ID or hostname\n",
    "computer_id = socket.gethostname()\n",
    "\n",
    "# Print output with local time and computer ID\n",
    "print('Assignment 1: Solutions by Lakshmi Kadali') # Please change your name here\n",
    "print('Local Time:', local_time)\n",
    "print('Computer ID:', computer_id)"
   ]
  },
  {
   "cell_type": "markdown",
   "metadata": {},
   "source": [
    "**Note that you have to run this code in your local engine to pass the assignments**"
   ]
  },
  {
   "cell_type": "markdown",
   "metadata": {},
   "source": [
    "# Assignment 1"
   ]
  },
  {
   "cell_type": "markdown",
   "metadata": {},
   "source": [
    "## Exercise 1: String Manipulation"
   ]
  },
  {
   "cell_type": "markdown",
   "metadata": {},
   "source": [
    "Develop a function that accepts a string parameter indicating a crop name and gives back the crop name in capital letters. Hints: str, upper(), def"
   ]
  },
  {
   "cell_type": "code",
   "execution_count": 2,
   "metadata": {},
   "outputs": [
    {
     "name": "stdout",
     "output_type": "stream",
     "text": [
      "The crop name 'canola' in uppercase is: CANOLA\n"
     ]
    }
   ],
   "source": [
    "## Your code here down\n",
    "\n",
    "def crop_name_to_upper(crop_name):\n",
    "    \"\"\"\n",
    "    Convert the given crop name to uppercase.\n",
    "\n",
    "    \"\"\"\n",
    "    return crop_name.upper()\n",
    "\n",
    "# call the function crop_name_to_upper\n",
    "crop = \"canola\"\n",
    "crop_upper = crop_name_to_upper(crop)\n",
    "print(f\"The crop name '{crop}' in uppercase is: {crop_upper}\")\n",
    "\n",
    "\n",
    "## Your code here up"
   ]
  },
  {
   "cell_type": "markdown",
   "metadata": {},
   "source": [
    "## Exercise 2: Crop Count"
   ]
  },
  {
   "cell_type": "markdown",
   "metadata": {},
   "source": [
    "Create a function that receives a list of crop names (lentil, barley, canola, spring wheat, durum wheat, oats, alfalfa) and outputs the total number of crops. Hints: list, length, def."
   ]
  },
  {
   "cell_type": "code",
   "execution_count": 3,
   "metadata": {},
   "outputs": [
    {
     "name": "stdout",
     "output_type": "stream",
     "text": [
      "Total number of crops: 7\n"
     ]
    }
   ],
   "source": [
    "## Your code here down\n",
    "\n",
    "def count_crops(crop_list):\n",
    "    \"\"\"\n",
    "    Count the number of crops in the given list.\n",
    "\n",
    "    \"\"\"\n",
    "    return len(crop_list)\n",
    "\n",
    "# call the function count_crops\n",
    "crops = [\"lentil\", \"barley\", \"canola\", \"spring wheat\", \"durum wheat\", \"oats\", \"alfalfa\"]\n",
    "total_crops = count_crops(crops)\n",
    "print(f\"Total number of crops: {total_crops}\")\n",
    "\n",
    "\n",
    "## Your code here up"
   ]
  },
  {
   "cell_type": "markdown",
   "metadata": {},
   "source": [
    "## Exercise 3: Temperature Conversion"
   ]
  },
  {
   "cell_type": "markdown",
   "metadata": {},
   "source": [
    "Create a function that takes a temperature in Celsius and converts it to Fahrenheit. Return the converted temperature. Keys:def, find converter."
   ]
  },
  {
   "cell_type": "code",
   "execution_count": 4,
   "metadata": {},
   "outputs": [
    {
     "name": "stdout",
     "output_type": "stream",
     "text": [
      "37.5 degree Celsius is equal to 99.5 degree Fahrenheit\n"
     ]
    }
   ],
   "source": [
    "## Your code here down\n",
    "\n",
    "def celsius_to_fahrenheit(celsius):\n",
    "    \"\"\"\n",
    "    Convert a temperature in Celsius to Fahrenheit.\n",
    "\n",
    "    \"\"\"\n",
    "    fahrenheit = (celsius * 9/5) + 32\n",
    "    return fahrenheit\n",
    "\n",
    "# call the function celsius_to_fahrenheit\n",
    "celsius_value = 37.5\n",
    "converted_fahrenheit = celsius_to_fahrenheit(celsius_value)\n",
    "print(f\"{celsius_value:.1f} degree Celsius is equal to {converted_fahrenheit:.1f} degree Fahrenheit\")\n",
    "\n",
    "\n",
    "## Your code here up"
   ]
  },
  {
   "cell_type": "markdown",
   "metadata": {},
   "source": [
    "## Exercise 4: Crop Harvest"
   ]
  },
  {
   "cell_type": "markdown",
   "metadata": {},
   "source": [
    "Create a function that takes the yield of canola crop (in bushels) and returns a string indicating whether it's a high, moderate, or low yield. Keys: strings, if-else, print()"
   ]
  },
  {
   "cell_type": "code",
   "execution_count": 5,
   "metadata": {},
   "outputs": [
    {
     "name": "stdout",
     "output_type": "stream",
     "text": [
      "Canola yield of 42.5 bushels is categorized as: Low yield\n"
     ]
    }
   ],
   "source": [
    "## Your code here down\n",
    "\n",
    "def canola_yield(yield_bushels):\n",
    "    \"\"\"\n",
    "    Determine the yield category(High, Moderate, or Low) for canola based on the yield in bushels.\n",
    "\n",
    "    \"\"\"\n",
    "    if yield_bushels >= 150:\n",
    "        return \"High yield\"\n",
    "    elif 50 <= yield_bushels < 150:\n",
    "        return \"Moderate yield\"\n",
    "    else:\n",
    "        return \"Low yield\"\n",
    "\n",
    "# call the function canola_yield\n",
    "canola_yield_input = 42.5  \n",
    "yield_category = canola_yield(canola_yield_input)\n",
    "print(f\"Canola yield of {canola_yield_input} bushels is categorized as: {yield_category}\")\n",
    "\n",
    "\n",
    "## Your code here up"
   ]
  },
  {
   "cell_type": "markdown",
   "metadata": {},
   "source": [
    "## Exercise 5: Crop Average"
   ]
  },
  {
   "cell_type": "markdown",
   "metadata": {},
   "source": [
    "Create a function that takes a list of crop yields (spring wheat) and returns the average yield. Keys: list, average() or arithmetic average."
   ]
  },
  {
   "cell_type": "code",
   "execution_count": 6,
   "metadata": {},
   "outputs": [
    {
     "name": "stdout",
     "output_type": "stream",
     "text": [
      "The average spring wheat yield is: 53.00 bushels per acre\n"
     ]
    }
   ],
   "source": [
    "## Your code here down\n",
    "\n",
    "def calculate_average_yield(yield_list):\n",
    "    \"\"\"\n",
    "    Calculate the average yield from a list of crop yields.\n",
    "\n",
    "    \"\"\"\n",
    "    # Return 0 if the list is empty to avoid division by zero\n",
    "    if not yield_list:\n",
    "        return 0.0  \n",
    "\n",
    "    average_yield = sum(yield_list) / len(yield_list)\n",
    "    return average_yield\n",
    "\n",
    "# call the function calculate_average_yield\n",
    "spring_wheat_yields = [50, 55, 60, 48, 52] \n",
    "average_spring_wheat_yield = calculate_average_yield(spring_wheat_yields)\n",
    "print(f\"The average spring wheat yield is: {average_spring_wheat_yield:.2f} bushels per acre\")\n",
    "\n",
    "\n",
    "## Your code here up"
   ]
  },
  {
   "cell_type": "markdown",
   "metadata": {},
   "source": [
    "## Exercise 6: Crop Recommendation"
   ]
  },
  {
   "cell_type": "markdown",
   "metadata": {},
   "source": [
    "Create a function that takes the type of soil (brown, dark brown, black) as a parameter and returns a recommended crop (lentil, canola, oats) for that soil type. Keys: dict, def"
   ]
  },
  {
   "cell_type": "code",
   "execution_count": 7,
   "metadata": {},
   "outputs": [
    {
     "name": "stdout",
     "output_type": "stream",
     "text": [
      "For dark brown soil, the recommended crop is canola.\n"
     ]
    }
   ],
   "source": [
    "## Your code here down\n",
    "\n",
    "def recommend_crop(soil_type):\n",
    "    \"\"\"\n",
    "    Recommend a crop based on the given soil type(brown, dark brown, black).\n",
    "\n",
    "    \"\"\"\n",
    "    crop_recommendations = {\n",
    "                            \"brown\": \"lentil\",\n",
    "                            \"dark brown\": \"canola\",\n",
    "                            \"black\": \"oats\"\n",
    "                           }\n",
    "    # Check if the soil type exists in the dictionary\n",
    "    if soil_type.lower() in crop_recommendations:\n",
    "        return crop_recommendations[soil_type.lower()]\n",
    "    else:\n",
    "        return \"Unknown soil type. Please provide a valid soil type.\"\n",
    "\n",
    "# call the function recommend_crop\n",
    "soil = \"dark brown\"\n",
    "recommended_crop = recommend_crop(soil)\n",
    "print(f\"For {soil} soil, the recommended crop is {recommended_crop}.\")\n",
    "\n",
    "\n",
    "## Your code here up"
   ]
  },
  {
   "cell_type": "markdown",
   "metadata": {},
   "source": [
    "## Exercise 7: Crop Rotation"
   ]
  },
  {
   "cell_type": "markdown",
   "metadata": {},
   "source": [
    "Create a function that takes a list of crop names (lentil, barly, canola, spring wheat, durum wheat, oats) and rotates the crops by moving the last crop to the beginning of the list. Keys: list and list index, def."
   ]
  },
  {
   "cell_type": "code",
   "execution_count": 8,
   "metadata": {},
   "outputs": [
    {
     "name": "stdout",
     "output_type": "stream",
     "text": [
      "Rotated crop list: ['oats', 'lentil', 'barley', 'canola', 'spring wheat', 'durum wheat']\n"
     ]
    }
   ],
   "source": [
    "## Your code here down\n",
    "\n",
    "def rotate_crops(crop_list):\n",
    "    \"\"\"\n",
    "    Rotate the crops in the list by moving the last crop to the beginning.\n",
    "\n",
    "    \"\"\"\n",
    "    if not crop_list:\n",
    "        return \"Empty list. Please provide a non-empty list of crop names.\"\n",
    "\n",
    "    # Get the last crop\n",
    "    last_crop = crop_list[-1]\n",
    "    # Remove the last crop from the list\n",
    "    crop_list.pop()\n",
    "    # Insert the last crop at the beginning\n",
    "    crop_list.insert(0, last_crop)\n",
    "    return crop_list\n",
    "\n",
    "# call the function rotate_crops\n",
    "crops = [\"lentil\", \"barley\", \"canola\", \"spring wheat\", \"durum wheat\", \"oats\"]\n",
    "rotated_crops = rotate_crops(crops)\n",
    "print(f\"Rotated crop list: {rotated_crops}\")\n",
    "\n",
    "\n",
    "## Your code here up"
   ]
  },
  {
   "cell_type": "markdown",
   "metadata": {},
   "source": [
    "# Exercise 8: Rainfall Analysis"
   ]
  },
  {
   "cell_type": "markdown",
   "metadata": {},
   "source": [
    "Create a function that takes a list of rainfall measurements (daily mm in a week) and returns the maximum and minimum rainfall values. Keys: min(), max(), lists, def"
   ]
  },
  {
   "cell_type": "code",
   "execution_count": 9,
   "metadata": {},
   "outputs": [
    {
     "name": "stdout",
     "output_type": "stream",
     "text": [
      "Maximum rainfall: 20 mm\n",
      "Minimum rainfall: 5 mm\n"
     ]
    }
   ],
   "source": [
    "## Your code here down\n",
    "\n",
    "def get_max_min_rainfall(rainfall_list):\n",
    "    \"\"\"\n",
    "    Find the maximum and minimum rainfall values from the given list.\n",
    "\n",
    "    \"\"\"\n",
    "    #if not rainfall_list:\n",
    "    #    return \"Empty list. Please provide a non-empty list of rainfall measurements.\"\n",
    "\n",
    "    max_rainfall = max(rainfall_list)\n",
    "    min_rainfall = min(rainfall_list)\n",
    "    return max_rainfall, min_rainfall\n",
    "\n",
    "# call the function get_max_min_rainfall\n",
    "rainfall_data = [10, 15, 8, 20, 12, 5, 18] \n",
    "max_rain, min_rain = get_max_min_rainfall(rainfall_data)\n",
    "\n",
    "print(f\"Maximum rainfall: {max_rain} mm\")\n",
    "print(f\"Minimum rainfall: {min_rain} mm\")\n",
    "\n",
    "\n",
    "## Your code here up"
   ]
  },
  {
   "cell_type": "markdown",
   "metadata": {},
   "source": [
    "## Exercise 9: Pest Control"
   ]
  },
  {
   "cell_type": "markdown",
   "metadata": {},
   "source": [
    "Create a function that takes the count of pests detected in a field and returns a recommendation for pest control based on the count. Please search for pests and pest control measures. Keys: if-else statement, def"
   ]
  },
  {
   "cell_type": "code",
   "execution_count": 10,
   "metadata": {},
   "outputs": [
    {
     "name": "stdout",
     "output_type": "stream",
     "text": [
      "Pest control recommendation: Moderate pest count. Consider targeted control methods.\n"
     ]
    }
   ],
   "source": [
    "## Your code here down\n",
    "\n",
    "def pest_control(pest_count):\n",
    "    \"\"\"\n",
    "    Recommend pest control measures based on the count of pests detected.\n",
    "\n",
    "    \"\"\"\n",
    "    if pest_count == 0:\n",
    "        return \"No pests detected. Continue monitoring.\"\n",
    "    elif pest_count < 10:\n",
    "        return \"Low pest count. Implement preventive measures.\"\n",
    "    elif pest_count < 50:\n",
    "        return \"Moderate pest count. Consider targeted control methods.\"\n",
    "    else:\n",
    "        return \"High pest count. Immediate action required.\"\n",
    "\n",
    "# call the function pest_count\n",
    "pest_count = 25 \n",
    "recommendation = pest_control(pest_count)\n",
    "print(f\"Pest control recommendation: {recommendation}\")\n",
    "\n",
    "\n",
    "## Your code here up"
   ]
  },
  {
   "cell_type": "markdown",
   "metadata": {},
   "source": [
    "## Exercise 10: Weed Control"
   ]
  },
  {
   "cell_type": "markdown",
   "metadata": {},
   "source": [
    "Create a function that takes a list of weed names (search online) and suggests appropriate herbicides for weed control. Keys: For Loops and dictionary."
   ]
  },
  {
   "cell_type": "code",
   "execution_count": 11,
   "metadata": {},
   "outputs": [
    {
     "name": "stdout",
     "output_type": "stream",
     "text": [
      "For barnyard grass, recommended herbicides: Glyphosate, Imazapyr\n",
      "For redroot pigweed, recommended herbicides: Bentazon, Imazamox\n",
      "For lamb's quarters, recommended herbicides: Glyphosate, Diquat\n"
     ]
    }
   ],
   "source": [
    "## Your code here down\n",
    "\n",
    "def suggest_herbicides(weed_names):\n",
    "    \"\"\"\n",
    "    Suggest appropriate herbicides for weed control based on a list of weed names.\n",
    "\n",
    "    \"\"\"\n",
    "    herbicide_recommendations = {\n",
    "                                \"barnyard grass\": [\"Glyphosate\", \"Imazapyr\"],\n",
    "                                \"redroot pigweed\": [\"Bentazon\", \"Imazamox\"],\n",
    "                                \"lamb's quarters\": [\"Glyphosate\", \"Diquat\"],\n",
    "                                }\n",
    "\n",
    "    recommended_herbicides = []\n",
    "\n",
    "    for weed in weed_names:\n",
    "        if weed.lower() in herbicide_recommendations:\n",
    "            recommended_herbicides.append(herbicide_recommendations[weed.lower()])\n",
    "        else:\n",
    "            recommended_herbicides.append(\"No specific recommendation for this weed.\")\n",
    "\n",
    "    return recommended_herbicides\n",
    "\n",
    "# call the function suggest_herbicides\n",
    "weeds = [\"barnyard grass\", \"redroot pigweed\", \"lamb's quarters\"]\n",
    "herbicide_suggestions = suggest_herbicides(weeds)\n",
    "\n",
    "for weed, herbicides in zip(weeds, herbicide_suggestions):\n",
    "    print(f\"For {weed}, recommended herbicides: {', '.join(herbicides)}\")\n",
    "\n",
    "\n",
    "## Your code here up"
   ]
  },
  {
   "cell_type": "code",
   "execution_count": null,
   "metadata": {},
   "outputs": [],
   "source": []
  }
 ],
 "metadata": {
  "kernelspec": {
   "display_name": "Python 3 (ipykernel)",
   "language": "python",
   "name": "python3"
  },
  "language_info": {
   "codemirror_mode": {
    "name": "ipython",
    "version": 3
   },
   "file_extension": ".py",
   "mimetype": "text/x-python",
   "name": "python",
   "nbconvert_exporter": "python",
   "pygments_lexer": "ipython3",
   "version": "3.11.5"
  }
 },
 "nbformat": 4,
 "nbformat_minor": 2
}
